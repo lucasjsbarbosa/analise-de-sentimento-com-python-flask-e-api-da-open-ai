{
  "cells": [
    {
      "cell_type": "markdown",
      "metadata": {
        "id": "view-in-github",
        "colab_type": "text"
      },
      "source": [
        "<a href=\"https://colab.research.google.com/github/lucasjsbarbosa/analise-de-sentimento-com-python-flask-e-api-da-open-ai/blob/main/analise_de_sentimento.ipynb\" target=\"_parent\"><img src=\"https://colab.research.google.com/assets/colab-badge.svg\" alt=\"Open In Colab\"/></a>"
      ]
    },
    {
      "cell_type": "code",
      "execution_count": null,
      "id": "0a54e162",
      "metadata": {
        "id": "0a54e162"
      },
      "outputs": [],
      "source": [
        "import openai\n",
        "import os\n",
        "import pandas as pd\n",
        "from flask import Flask, request, render_template, send_file\n",
        "from io import BytesIO\n",
        "import xlsxwriter\n",
        "import base64"
      ]
    },
    {
      "cell_type": "code",
      "execution_count": null,
      "id": "94eb5850",
      "metadata": {
        "id": "94eb5850"
      },
      "outputs": [],
      "source": [
        "openai.api_key = os.environ[\"OPENAI_API_KEY\"]\n",
        "#Por motivos óbvios retirei minha KEY"
      ]
    },
    {
      "cell_type": "markdown",
      "id": "b65c49e0",
      "metadata": {
        "id": "b65c49e0"
      },
      "source": [
        "## Função de Análise de Sentimento"
      ]
    },
    {
      "cell_type": "code",
      "execution_count": null,
      "id": "c7b3b4de",
      "metadata": {
        "id": "c7b3b4de"
      },
      "outputs": [],
      "source": [
        "def analisa_sentimento(text):\n",
        "    response = openai.Completion.create(\n",
        "        engine=\"text-davinci-002\",\n",
        "        prompt=f\"This is a sentiment analysis task.\\nPlease analyze the sentiment of the following text:\\n{text}\\nSentiment:\",\n",
        "        temperature=0.2,\n",
        "        max_tokens=1,\n",
        "        stop=[\"\\n\"]\n",
        "    )\n",
        "\n",
        "    sentiment = response.choices[0].text.strip()\n",
        "    return sentiment"
      ]
    },
    {
      "cell_type": "markdown",
      "id": "5077e05b",
      "metadata": {
        "id": "5077e05b"
      },
      "source": [
        "## Função de Processamento do Arquivo"
      ]
    },
    {
      "cell_type": "code",
      "execution_count": null,
      "id": "38fdc8cb",
      "metadata": {
        "id": "38fdc8cb"
      },
      "outputs": [],
      "source": [
        "def processa_planilha(file):\n",
        "    df = pd.read_excel(file)\n",
        "\n",
        "    columns_to_drop = ['Unnamed: 1', 'Unnamed: 2', 'Unnamed: 3', 'Unnamed: 5', 'Unnamed: 7', 'Unnamed: 8']\n",
        "    df = df.drop(columns=columns_to_drop, axis=1)\n",
        "\n",
        "    df = df.dropna()\n",
        "\n",
        "    df.rename(columns={'ExportComments.com': 'id', 'Unnamed: 6': 'review', 'Unnamed: 4': 'data'}, inplace=True)\n",
        "\n",
        "    sentimentos = []\n",
        "    for text in df['review'].values:\n",
        "        sentimentos.append(analisa_sentimento(text))\n",
        "\n",
        "    df['sentimento'] = sentimentos\n",
        "\n",
        "    df['sentimento'] = df['sentimento'].apply(lambda x: \"Neutral\" if x == \"\" or x == \"Unknown\" else x)\n",
        "\n",
        "    df['sentimento'] = df['sentimento'].str.title()\n",
        "\n",
        "    return df"
      ]
    },
    {
      "cell_type": "markdown",
      "id": "9f755813",
      "metadata": {
        "id": "9f755813"
      },
      "source": [
        "## Criação da API"
      ]
    },
    {
      "cell_type": "code",
      "execution_count": null,
      "id": "45c0f3de",
      "metadata": {
        "id": "45c0f3de"
      },
      "outputs": [],
      "source": [
        "app = Flask(__name__, template_folder='template')"
      ]
    },
    {
      "cell_type": "code",
      "execution_count": null,
      "id": "9a5fefc3",
      "metadata": {
        "id": "9a5fefc3"
      },
      "outputs": [],
      "source": [
        "@app.route('/', methods=['GET', 'POST'])\n",
        "\n",
        "def upload_file():\n",
        "    if request.method == 'POST':\n",
        "        file = request.files['file']\n",
        "        if file and file.filename.endswith('.xlsx'):\n",
        "\n",
        "            # processa planilha\n",
        "            result_df = processa_planilha(file)\n",
        "\n",
        "            # cria um arquivo na memória\n",
        "            excel_buffer = BytesIO()\n",
        "            excel_writer = pd.ExcelWriter(excel_buffer, engine='xlsxwriter')\n",
        "            result_df.to_excel(excel_writer, sheet_name='Sentiment Results', index=False)\n",
        "            excel_writer.save()\n",
        "            excel_buffer.seek(0)\n",
        "\n",
        "            # converter o buffer para uma string em base64 para transformar o conteúdo binário\n",
        "            # do arquivo Excel em uma representação de texto que pode ser incluída em uma URL ou em um documento HTML\n",
        "            excel_base64 = base64.b64encode(excel_buffer.read()).decode('utf-8')\n",
        "\n",
        "            return render_template('results.html', results=result_df.to_dict('records'), excel_base64=excel_base64)\n",
        "\n",
        "    return render_template('upload.html')\n",
        "\n",
        "@app.route('/download_excel', methods=['GET'])\n",
        "def download_excel():\n",
        "    excel_base64 = request.args.get('excel_base64')\n",
        "    if excel_base64:\n",
        "        excel_buffer = BytesIO(base64.b64decode(excel_base64.encode('utf-8')))\n",
        "        df = pd.read_excel(excel_buffer)\n",
        "        new_excel_buffer = BytesIO()\n",
        "        df.to_excel(new_excel_buffer, index=False)\n",
        "        new_excel_buffer.seek(0)\n",
        "        response = send_file(\n",
        "            new_excel_buffer,\n",
        "            mimetype='application/vnd.openxmlformats-officedocument.spreadsheetml.sheet'\n",
        "        )\n",
        "\n",
        "        # instruir o navegador a tratar o conteúdo como um anexo para download, em vez de tentar exibi-lo diretamente\n",
        "        response.headers['Content-Disposition'] = 'attachment; filename=sentiment_results.xlsx'\n",
        "        return response\n",
        "    return \"File not found\", 404"
      ]
    },
    {
      "cell_type": "code",
      "execution_count": null,
      "id": "14e2ce2c",
      "metadata": {
        "id": "14e2ce2c",
        "outputId": "85dbd2fc-9b23-4617-a961-9d317cc56eed"
      },
      "outputs": [
        {
          "name": "stdout",
          "output_type": "stream",
          "text": [
            " * Serving Flask app '__main__'\n",
            " * Debug mode: on\n"
          ]
        },
        {
          "name": "stderr",
          "output_type": "stream",
          "text": [
            "WARNING: This is a development server. Do not use it in a production deployment. Use a production WSGI server instead.\n",
            " * Running on http://127.0.0.1:5000\n",
            "Press CTRL+C to quit\n",
            "127.0.0.1 - - [26/Oct/2023 13:57:37] \"GET / HTTP/1.1\" 200 -\n",
            "127.0.0.1 - - [26/Oct/2023 13:58:14] \"POST / HTTP/1.1\" 200 -\n"
          ]
        }
      ],
      "source": [
        "if __name__ == '__main__':\n",
        "    app.run(debug=True, use_reloader=False)"
      ]
    },
    {
      "cell_type": "code",
      "execution_count": null,
      "id": "c3820e7b-8960-48ff-9212-c7adc70ddf2b",
      "metadata": {
        "id": "c3820e7b-8960-48ff-9212-c7adc70ddf2b"
      },
      "outputs": [],
      "source": []
    }
  ],
  "metadata": {
    "kernelspec": {
      "display_name": "Python 3 (ipykernel)",
      "language": "python",
      "name": "python3"
    },
    "language_info": {
      "codemirror_mode": {
        "name": "ipython",
        "version": 3
      },
      "file_extension": ".py",
      "mimetype": "text/x-python",
      "name": "python",
      "nbconvert_exporter": "python",
      "pygments_lexer": "ipython3",
      "version": "3.9.13"
    },
    "colab": {
      "provenance": [],
      "include_colab_link": true
    }
  },
  "nbformat": 4,
  "nbformat_minor": 5
}